{
 "cells": [
  {
   "cell_type": "code",
   "execution_count": 1,
   "id": "8ac4bbd3",
   "metadata": {
    "ExecuteTime": {
     "end_time": "2023-08-19T22:23:26.573749Z",
     "start_time": "2023-08-19T22:23:26.553720Z"
    }
   },
   "outputs": [],
   "source": [
    "import re"
   ]
  },
  {
   "cell_type": "code",
   "execution_count": 10,
   "id": "5286f514",
   "metadata": {
    "ExecuteTime": {
     "end_time": "2023-08-19T22:39:12.262588Z",
     "start_time": "2023-08-19T22:39:12.251615Z"
    }
   },
   "outputs": [
    {
     "name": "stdout",
     "output_type": "stream",
     "text": [
      "Names: ['Ahmed Hafez', 'Nelly Karim', 'Menna Shalby', 'Ahmed Helmy', 'Kazem Elsaher', 'Mohamed Hamaki']\n",
      "Numbers: ['01202485910', '01002485262', '01102845607', '01202358511', '01005489612', '01552654893']\n",
      "Emails: ['ahmed12@gmail.com', 'nellykarim02@gmail.com', 'menna96@gmail.com', 'ahmedhelmy@gmail.com', 'kazem77@gmail.com', 'mohamed48@gmail.com']\n"
     ]
    }
   ],
   "source": [
    "# Task 1: text file contain (name mail phone in line 1,name mail phone in line 2, etc)\n",
    "\n",
    "\n",
    "# Step 1: read file\n",
    "text_path = \"mytext1.txt\"   # text file path\n",
    "file_content = open(text_path, \"r\")    \n",
    "\n",
    "\n",
    "# Step 2: Create empty lists\n",
    "list_names = []\n",
    "list_numbers = []\n",
    "list_mails = []\n",
    "\n",
    "# Define regular expressions for extracting the data\n",
    "name_pattern = re.compile(r\"[a-zA-Z]+\\s[a-zA-Z]+\")\n",
    "number_pattern = re.compile(r\"\\d{11}\")\n",
    "email_pattern = re.compile(r\"\\w+@\\w+\\.\\w+\")\n",
    "\n",
    "    \n",
    "for line in file_content:\n",
    "    \n",
    "    name_matches = name_pattern.finditer(line)\n",
    "    number_matches = number_pattern.finditer(line)\n",
    "    email_matches = email_pattern.finditer(line)\n",
    "    \n",
    "    # Step 3: Append each data into its suitable list\n",
    "    for match in name_matches:\n",
    "        list_names.append(line[match.span()[0]:match.span()[1]])\n",
    "    for match in number_matches:\n",
    "        list_numbers.append(line[match.span()[0]:match.span()[1]])\n",
    "    for match in email_matches:\n",
    "        list_mails.append(line[match.span()[0]:match.span()[1]])\n",
    "    \n",
    "\n",
    "# Print the lists\n",
    "print(\"Names:\", list_names)\n",
    "print(\"Numbers:\", list_numbers)\n",
    "print(\"Emails:\", list_mails)"
   ]
  },
  {
   "cell_type": "code",
   "execution_count": 8,
   "id": "474401c2",
   "metadata": {
    "ExecuteTime": {
     "end_time": "2023-08-19T22:37:11.039442Z",
     "start_time": "2023-08-19T22:37:11.025469Z"
    }
   },
   "outputs": [
    {
     "name": "stdout",
     "output_type": "stream",
     "text": [
      "Names: ['Ahmed Hafez', 'Nelly Karim', 'Menna Shalby', 'Ahmed Helmy', 'Kazem Elsaher', 'Mohamed Hamaki']\n",
      "Numbers: ['01202485910', '01002485262', '01102845607', '01202358511', '01005489612', '01552654893']\n",
      "Emails: ['ahmed12@gmail.com', 'nellykarim02@gmail.com', 'menna96@gmail.com', 'ahmedhelmy@gmail.com', 'kazem77@gmail.com', 'mohamed48@gmail.com']\n"
     ]
    }
   ],
   "source": [
    "# Advanced Task 1: Make file unordered (ex: name, email, phone in line 1, email, phone, name in line 2, etc)\n",
    "\n",
    "# Step 1: read file\n",
    "text_path = \"mytext2.txt\"   # text file path\n",
    "file_content = open(text_path, \"r\")    \n",
    "\n",
    "\n",
    "# Step 2: Create empty lists\n",
    "list_names = []\n",
    "list_numbers = []\n",
    "list_mails = []\n",
    "\n",
    "# Define regular expressions for extracting the data\n",
    "name_pattern = re.compile(r\"[A-Z][a-z]+\\s[A-Z][a-z]+\")\n",
    "number_pattern = re.compile(r\"\\d{11}\")\n",
    "email_pattern = re.compile(r\"\\w+@\\w+\\.\\w+\")\n",
    "\n",
    "    \n",
    "for line in file_content:\n",
    "    \n",
    "    name_matches = name_pattern.finditer(line)\n",
    "    number_matches = number_pattern.finditer(line)\n",
    "    email_matches = email_pattern.finditer(line)\n",
    "    \n",
    "    # Step 3: Append each data into its suitable list\n",
    "    for match in name_matches:\n",
    "        list_names.append(line[match.span()[0]:match.span()[1]])\n",
    "    for match in number_matches:\n",
    "        list_numbers.append(line[match.span()[0]:match.span()[1]])\n",
    "    for match in email_matches:\n",
    "        list_mails.append(line[match.span()[0]:match.span()[1]])\n",
    "    \n",
    "\n",
    "# Print the lists\n",
    "print(\"Names:\", list_names)\n",
    "print(\"Numbers:\", list_numbers)\n",
    "print(\"Emails:\", list_mails)"
   ]
  },
  {
   "cell_type": "code",
   "execution_count": 9,
   "id": "6683c0da",
   "metadata": {
    "ExecuteTime": {
     "end_time": "2023-08-19T22:37:21.695839Z",
     "start_time": "2023-08-19T22:37:21.684928Z"
    }
   },
   "outputs": [
    {
     "name": "stdout",
     "output_type": "stream",
     "text": [
      "Names: ['Ahmed Hafez', 'Nelly Karim', 'Menna Shalby', 'Ahmed Helmy', 'Kazem Elsaher', 'Mohamed Hamaki']\n",
      "Numbers: ['01202485910', '01002485262', '01102845607', '01202358511', '01005489612', '01552654893']\n",
      "Emails: ['ahmed12@gmail.com', 'nellykarim02@gmail.com', 'menna96@gmail.com', 'ahmedhelmy@gmail.com', 'kazem77@gmail.com', 'mohamed48@gmail.com']\n"
     ]
    }
   ],
   "source": [
    "# Advanced Task 2: Make file seperated differently (ex: name,email,phone in line 1,name-email-phone in line 2, etc)\n",
    "\n",
    "# Step 1: read file\n",
    "text_path = \"mytext3.txt\"   # text file path\n",
    "file_content = open(text_path, \"r\")    \n",
    "\n",
    "\n",
    "# Step 2: Create empty lists\n",
    "list_names = []\n",
    "list_numbers = []\n",
    "list_mails = []\n",
    "\n",
    "# Define regular expressions for extracting the data\n",
    "name_pattern = re.compile(r\"[A-Z][a-z]+\\s[A-Z][a-z]+\")\n",
    "number_pattern = re.compile(r\"\\d{11}\")\n",
    "email_pattern = re.compile(r\"[a-z]+(\\d{2})?@\\w+\\.\\w+\")\n",
    "\n",
    "for line in file_content:\n",
    "    \n",
    "    name_matches = name_pattern.finditer(line)\n",
    "    number_matches = number_pattern.finditer(line)\n",
    "    email_matches = email_pattern.finditer(line)\n",
    "    \n",
    "    # Step 3: Append each data into its suitable list\n",
    "    for match in name_matches:\n",
    "        list_names.append(line[match.span()[0]:match.span()[1]])\n",
    "    for match in number_matches:\n",
    "        list_numbers.append(line[match.span()[0]:match.span()[1]])\n",
    "    for match in email_matches:\n",
    "        list_mails.append(line[match.span()[0]:match.span()[1]])\n",
    "\n",
    "\n",
    "# Print the lists\n",
    "print(\"Names:\", list_names)\n",
    "print(\"Numbers:\", list_numbers)\n",
    "print(\"Emails:\", list_mails)"
   ]
  }
 ],
 "metadata": {
  "kernelspec": {
   "display_name": "Python 3 (ipykernel)",
   "language": "python",
   "name": "python3"
  },
  "language_info": {
   "codemirror_mode": {
    "name": "ipython",
    "version": 3
   },
   "file_extension": ".py",
   "mimetype": "text/x-python",
   "name": "python",
   "nbconvert_exporter": "python",
   "pygments_lexer": "ipython3",
   "version": "3.9.7"
  }
 },
 "nbformat": 4,
 "nbformat_minor": 5
}
