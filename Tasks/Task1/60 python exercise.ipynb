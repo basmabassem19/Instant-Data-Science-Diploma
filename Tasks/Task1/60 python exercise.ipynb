{
 "cells": [
  {
   "cell_type": "markdown",
   "id": "759d04ba",
   "metadata": {},
   "source": [
    "**1-Write a Python program to calculate the length of a string using 2 ways"
   ]
  },
  {
   "cell_type": "code",
   "execution_count": 90,
   "id": "e434c950",
   "metadata": {},
   "outputs": [
    {
     "name": "stdout",
     "output_type": "stream",
     "text": [
      "Length: 12\n"
     ]
    }
   ],
   "source": [
    "# Using len() function\n",
    "string = \"Basma Bassem\"\n",
    "length = len(string)\n",
    "print(\"Length:\",length)"
   ]
  },
  {
   "cell_type": "code",
   "execution_count": 89,
   "id": "7a2dfa32",
   "metadata": {},
   "outputs": [
    {
     "name": "stdout",
     "output_type": "stream",
     "text": [
      "Length: 12\n"
     ]
    }
   ],
   "source": [
    "# Using for loop\n",
    "string = \"Basma Bassem\"\n",
    "length = 0\n",
    "for char in string:\n",
    "    length += 1\n",
    "print(\"Length:\",length)"
   ]
  },
  {
   "cell_type": "markdown",
   "id": "d7cc9da7",
   "metadata": {},
   "source": [
    "**2-Write a Python program to get a string made of the first 2 and last 2 characters of a given string. If the string length is less than 2, return the empty string instead (\"##Sample String : 'w3resource'\n",
    "Expected Result : 'w3ce'\n",
    "##Sample String : 'w3'\n",
    "Expected Result : 'w3w3'\n",
    "##Sample String : ' w'\n",
    "Expected Result : Empty String)"
   ]
  },
  {
   "cell_type": "code",
   "execution_count": 88,
   "id": "dafa9dd8",
   "metadata": {},
   "outputs": [
    {
     "name": "stdout",
     "output_type": "stream",
     "text": [
      "string: w3resource\n",
      "new string: w3ce\n",
      "**********************\n",
      "string: w3\n",
      "new string: w3w3\n",
      "**********************\n",
      "string: w\n",
      "new string: \n",
      "**********************\n"
     ]
    }
   ],
   "source": [
    "# function for getting new string that made of the first 2 and last 2 characters of a given string\n",
    "def get_new_string(string):\n",
    "    if len(string) < 2 :   \n",
    "        return \"\"\n",
    "    else:\n",
    "        return string[0:2] + string[-2:]\n",
    "    \n",
    "# function for display the given string and new string\n",
    "def displayfunction(string):\n",
    "    newstring = get_new_string(string)\n",
    "    print(\"string:\",string)\n",
    "    print(\"new string:\",newstring)\n",
    "    print(\"**********************\")\n",
    "\n",
    "displayfunction('w3resource')\n",
    "displayfunction('w3')\n",
    "displayfunction('w')"
   ]
  },
  {
   "cell_type": "markdown",
   "id": "1534f956",
   "metadata": {},
   "source": [
    "**3-Write a Python program to add 'ing' at the end of a given string (length should be at least 3). If the given string already ends with 'ing', add 'ly' instead. If the string length of the given string is less than 3, leave it unchanged. (Sample String : 'abc'\n",
    "Expected Result : 'abcing')"
   ]
  },
  {
   "cell_type": "code",
   "execution_count": 1,
   "id": "7ff8cec4",
   "metadata": {},
   "outputs": [
    {
     "name": "stdout",
     "output_type": "stream",
     "text": [
      "string: abc\n",
      "new string: abcing\n",
      "**********************\n",
      "string: king\n",
      "new string: kingly\n",
      "**********************\n",
      "string: on\n",
      "new string: on\n",
      "**********************\n"
     ]
    }
   ],
   "source": [
    "\"\"\"\n",
    "function to:\n",
    "add 'ing' at the end of given string &\n",
    "add ly for thegiven string already ends with 'ing'&\n",
    "unchange string if its length less than 3\n",
    "\"\"\"\n",
    "def adding(string):\n",
    "    if len(string) < 3:\n",
    "        return string\n",
    "    else:\n",
    "        if string[-3:] == \"ing\":\n",
    "            return string + \"ly\"\n",
    "        else:\n",
    "            return string + \"ing\"\n",
    "\n",
    "# function for display the given string and new string\n",
    "def displayfunction(string):\n",
    "    newstring = adding(string)\n",
    "    print(\"string:\",string)\n",
    "    print(\"new string:\",newstring)\n",
    "    print(\"**********************\")\n",
    "    \n",
    "displayfunction(\"abc\")\n",
    "displayfunction(\"king\")\n",
    "displayfunction(\"on\")"
   ]
  },
  {
   "cell_type": "markdown",
   "id": "1c0a6627",
   "metadata": {},
   "source": [
    "**4-Write a Python function that takes a list of words and return the longest word and the length of the longest one\n",
    "(Longest word: Exercises\n",
    "Length of the longest word: 9)"
   ]
  },
  {
   "cell_type": "code",
   "execution_count": 86,
   "id": "397341d9",
   "metadata": {},
   "outputs": [
    {
     "name": "stdout",
     "output_type": "stream",
     "text": [
      "Longest word: Marisia\n",
      "Length of the longest word: 7\n"
     ]
    }
   ],
   "source": [
    "# function for finding longest word and the length of it\n",
    "def find_longest_word(listofwords):\n",
    "    longest_word = \"\"\n",
    "    longest_length = 0\n",
    "    for word in listofwords:\n",
    "        if len(word) > longest_length:\n",
    "            longest_length = len(word)\n",
    "            longest_word = word\n",
    "    return longest_word,longest_length\n",
    "\n",
    "words = [\"Basma\",\"Shahed\",\"Merola\",\"Marisia\",\"Nour\"]\n",
    "longest_word, longest_length = find_longest_word(words)\n",
    "print(\"Longest word:\", longest_word)\n",
    "print(\"Length of the longest word:\",longest_length)"
   ]
  },
  {
   "cell_type": "markdown",
   "id": "53a03a6a",
   "metadata": {},
   "source": [
    "**5-Write a Python program to change a given string to a newly string where the first and last chars have been exchanged using 2 ways (Sample String:abca  Expected Result:ebce)"
   ]
  },
  {
   "cell_type": "code",
   "execution_count": 84,
   "id": "fd327d2a",
   "metadata": {},
   "outputs": [
    {
     "name": "stdout",
     "output_type": "stream",
     "text": [
      "String: abcd\n",
      "New string: dbca\n"
     ]
    }
   ],
   "source": [
    "# Method 1: Using string slicing and concatenation\n",
    "string = \"abcd\"\n",
    "new_string = string[-1] + string[1:-1] + string[0]\n",
    "print(\"String:\", string)\n",
    "print(\"New string:\", new_string)"
   ]
  },
  {
   "cell_type": "code",
   "execution_count": 94,
   "id": "96b65f08",
   "metadata": {},
   "outputs": [
    {
     "name": "stdout",
     "output_type": "stream",
     "text": [
      "String: abcd\n",
      "New string: dbca\n"
     ]
    }
   ],
   "source": [
    "# Method 2:\n",
    "string = \"abcd\"\n",
    "a = string[0]\n",
    "b = string[-1]\n",
    "new_string = b + string[1:-1] + a\n",
    "print(\"String:\", string)\n",
    "print(\"New string:\", new_string)"
   ]
  },
  {
   "cell_type": "code",
   "execution_count": 95,
   "id": "285788b4",
   "metadata": {},
   "outputs": [
    {
     "name": "stdout",
     "output_type": "stream",
     "text": [
      "String: abcd\n",
      "New string: dbca\n"
     ]
    }
   ],
   "source": [
    "# Method 3: Using a list and string join method\n",
    "string = \"abcd\"\n",
    "char_list = list(\"abcd\")\n",
    "char_list[0], char_list[-1] = char_list[-1], char_list[0]\n",
    "new_string = \"\".join(char_list)\n",
    "print(\"String:\", string)\n",
    "print(\"New string:\", new_string)"
   ]
  },
  {
   "cell_type": "markdown",
   "id": "25f89808",
   "metadata": {},
   "source": [
    "**6-Write a Python program to remove characters that have odd index values in a given string (Sample String:abca Expected Result:ac)"
   ]
  },
  {
   "cell_type": "code",
   "execution_count": 96,
   "id": "06b4e9b6",
   "metadata": {},
   "outputs": [
    {
     "data": {
      "text/plain": [
       "'ac'"
      ]
     },
     "execution_count": 96,
     "metadata": {},
     "output_type": "execute_result"
    }
   ],
   "source": [
    "# Method 1:\n",
    "string = \"abcd\"\n",
    "string[0::2]"
   ]
  },
  {
   "cell_type": "code",
   "execution_count": 82,
   "id": "05959bd7",
   "metadata": {},
   "outputs": [
    {
     "name": "stdout",
     "output_type": "stream",
     "text": [
      "String: abcd\n",
      "New string: ac\n"
     ]
    }
   ],
   "source": [
    "# Method 2:\n",
    "# function for remove characters that have odd index values in a given string \n",
    "def romve_odd_index(string):\n",
    "    new_string=\"\"\n",
    "    for i in range(len(string)):      \n",
    "        if i%2 == 0:\n",
    "            new_string += string[i]\n",
    "    return new_string\n",
    "\"\"\"\n",
    "another method of for loop :\n",
    "for i in range(0,len(string),2):\n",
    "        new_string += string[i]\n",
    "\"\"\"\n",
    "string = \"abcd\"\n",
    "new_string = romve_odd_index(string)\n",
    "print(\"String:\", string)\n",
    "print(\"New string:\", new_string)"
   ]
  },
  {
   "cell_type": "markdown",
   "id": "eb16e898",
   "metadata": {},
   "source": [
    "**7-Write a Python program to count the occurrences of each word in a given sentence (Sample String:amr and ahmed are frindes but amr is the tallest Expected Result:2)"
   ]
  },
  {
   "cell_type": "code",
   "execution_count": 101,
   "id": "7e272232",
   "metadata": {},
   "outputs": [
    {
     "name": "stdout",
     "output_type": "stream",
     "text": [
      "amr : 2\n",
      "and : 1\n",
      "ahmed : 1\n",
      "are : 1\n",
      "frindes : 1\n",
      "but : 1\n",
      "is : 1\n",
      "the : 1\n",
      "tallest : 1\n"
     ]
    }
   ],
   "source": [
    "# Method 1:  (في حالة عايزة اطبع الاسم و رقم التكرار جمبة بدون تكرار طباعتهم مرة تانية)\n",
    "def wordcount(sentence):\n",
    "    counts = {}\n",
    "    words = sentence.split() # Split the sentence into words\n",
    "    for word in words:\n",
    "        if word in counts: # If the word is already in the dictionary, increment its count\n",
    "            counts[word] += 1\n",
    "        else: # Otherwise, add it to the dictionary with a count of 1\n",
    "            counts[word] = 1\n",
    "    return counts\n",
    "\n",
    "counts = wordcount(\"amr and ahmed are frindes but amr is the tallest\")\n",
    "for word, count in counts.items():\n",
    "    print(word, \":\", count)\n",
    "    \n",
    "# if we want to print in the form of dictionary :\n",
    "# print( wordcount('amr and ahmed are frindes but amr is the tallest')) "
   ]
  },
  {
   "cell_type": "code",
   "execution_count": 100,
   "id": "01ce6cf5",
   "metadata": {},
   "outputs": [
    {
     "name": "stdout",
     "output_type": "stream",
     "text": [
      "amr 2\n",
      "and 1\n",
      "ahmed 1\n",
      "are 1\n",
      "frindes 1\n",
      "but 1\n",
      "amr 2\n",
      "is 1\n",
      "the 1\n",
      "tallest 1\n"
     ]
    }
   ],
   "source": [
    "# Method 2:  \n",
    "string = \"amr and ahmed are frindes but amr is the tallest\"\n",
    "words = string.split() \n",
    "for word in words:\n",
    "    print(word, string.count(word))"
   ]
  },
  {
   "cell_type": "markdown",
   "id": "4e8125f1",
   "metadata": {},
   "source": [
    "**8-Write a Python script that takes input from the user and displays that input back in upper and lower cases"
   ]
  },
  {
   "cell_type": "code",
   "execution_count": 81,
   "id": "66c8f778",
   "metadata": {},
   "outputs": [
    {
     "name": "stdout",
     "output_type": "stream",
     "text": [
      "Enter a string: Basma Bassem\n",
      "Upper case:  BASMA BASSEM\n",
      "Lower case:  basma bassem\n"
     ]
    }
   ],
   "source": [
    "input_string = input(\"Enter a string: \")\n",
    "\n",
    "# Convert the string to upper case and display it\n",
    "upper_string = input_string.upper()\n",
    "print(\"Upper case: \", upper_string)\n",
    "\n",
    "# Convert the string to lower case and display it\n",
    "lower_string = input_string.lower()\n",
    "print(\"Lower case: \", lower_string)"
   ]
  },
  {
   "cell_type": "markdown",
   "id": "fcd68aa1",
   "metadata": {},
   "source": [
    "**9-Write a Python function to reverse a string if its length is a multiple of 4"
   ]
  },
  {
   "cell_type": "code",
   "execution_count": 106,
   "id": "0671a931",
   "metadata": {},
   "outputs": [
    {
     "name": "stdout",
     "output_type": "stream",
     "text": [
      "Original string: Basma Bassem\n",
      "Reversed string: messaB amsaB\n"
     ]
    }
   ],
   "source": [
    "# function to reverse a string if its length is a multiple of 4\n",
    "def reverse_string(string):\n",
    "    if len(string) % 4 == 0:\n",
    "        return string[::-1]\n",
    "    else:\n",
    "        return string\n",
    "string = \"Basma Bassem\"\n",
    "print(\"Original string:\",string)\n",
    "print(\"Reversed string:\",reverse_string(string))      "
   ]
  },
  {
   "cell_type": "markdown",
   "id": "b577c68d",
   "metadata": {},
   "source": [
    "**10- Write a Python program to remove a newline in Python"
   ]
  },
  {
   "cell_type": "code",
   "execution_count": 115,
   "id": "7fcd2f49",
   "metadata": {},
   "outputs": [
    {
     "name": "stdout",
     "output_type": "stream",
     "text": [
      "Original string: \n",
      "My name is Basma Bassem.\n",
      "Graduated from FCAI(2019-2023).\n",
      "Fayoum University.\n",
      "\n",
      "After deleting the new line: My name is Basma Bassem.Graduated from FCAI(2019-2023).Fayoum University.\n"
     ]
    }
   ],
   "source": [
    "# Method 1:\n",
    "# function to remove a newline\n",
    "def remove_newline(string):\n",
    "    return ''.join(string.splitlines())\n",
    "string = \"\"\"\n",
    "My name is Basma Bassem.\n",
    "Graduated from FCAI(2019-2023).\n",
    "Fayoum University.\n",
    "\"\"\"\n",
    "print(\"Original string:\", string)\n",
    "\n",
    "print(\"After deleting the new line:\", remove_newline(string))"
   ]
  },
  {
   "cell_type": "code",
   "execution_count": 112,
   "id": "e0c6525a",
   "metadata": {},
   "outputs": [
    {
     "name": "stdout",
     "output_type": "stream",
     "text": [
      "Original string: \n",
      "My name is Basma Bassem.\n",
      "Graduated from FCAI(2019-2023).\n",
      "Fayoum University.\n",
      "\n",
      "After deleting the new line:\n",
      " My name is Basma Bassem.Graduated from FCAI(2019-2023).Fayoum University.\n"
     ]
    }
   ],
   "source": [
    "# Method 2:  \n",
    "string = \"\"\"\n",
    "My name is Basma Bassem.\n",
    "Graduated from FCAI(2019-2023).\n",
    "Fayoum University.\n",
    "\"\"\"\n",
    "new_string = string.replace(\"\\n\", \"\")\n",
    "\n",
    "print(\"Original string:\", string)\n",
    "\n",
    "print(\"After deleting the new line:\\n\", new_string)"
   ]
  },
  {
   "cell_type": "markdown",
   "id": "80db5ae0",
   "metadata": {},
   "source": [
    "**11-Write a Python program to check whether a string starts with specified characters"
   ]
  },
  {
   "cell_type": "code",
   "execution_count": 118,
   "id": "0cc4e03e",
   "metadata": {},
   "outputs": [
    {
     "name": "stdout",
     "output_type": "stream",
     "text": [
      "Enter a string: hello world\n",
      "Enter specified characters: hel\n",
      "The string starts with the specified characters.\n"
     ]
    }
   ],
   "source": [
    "string = input(\"Enter a string: \")\n",
    "specified_string = input(\"Enter specified characters: \")\n",
    "\n",
    "if string.startswith(specified_string):\n",
    "    print(\"The string starts with the specified characters.\")\n",
    "else:\n",
    "    print(\"The string does not start with the specified characters.\")"
   ]
  },
  {
   "cell_type": "markdown",
   "id": "593a68db",
   "metadata": {},
   "source": [
    "**12- Write a Python program to add prefix text to all of the lines in a string"
   ]
  },
  {
   "cell_type": "code",
   "execution_count": 122,
   "id": "d2e46ada",
   "metadata": {},
   "outputs": [
    {
     "name": "stdout",
     "output_type": "stream",
     "text": [
      "Eng. Basma\n",
      "Eng. Nada\n",
      "Eng. Heba\n"
     ]
    }
   ],
   "source": [
    "string = \"\"\"Basma\n",
    "Nada\n",
    "Heba\"\"\"\n",
    "\n",
    "prefix_text = \"Eng. \"\n",
    "\n",
    "# Split the string into lines using the splitlines() method\n",
    "lines = string.splitlines()\n",
    "\n",
    "# Add the prefix text to each line using a list comprehension\n",
    "prefixed_lines = [prefix_text + line for line in lines]\n",
    "\n",
    "# Join the lines back into a single string using the join() method\n",
    "output_string = '\\n'.join(prefixed_lines)\n",
    "\n",
    "# Print the new string with the prefix text added to each line\n",
    "print(output_string)"
   ]
  },
  {
   "cell_type": "markdown",
   "id": "86fa1543",
   "metadata": {},
   "source": [
    "**13-Write a Python program to print the following numbers up to 2 decimal places"
   ]
  },
  {
   "cell_type": "code",
   "execution_count": 123,
   "id": "cd4a9d89",
   "metadata": {},
   "outputs": [
    {
     "name": "stdout",
     "output_type": "stream",
     "text": [
      "5.22\n",
      "2.10\n",
      "1.42\n",
      "6.66\n"
     ]
    }
   ],
   "source": [
    "# Method 1:\n",
    "num_list = [5.21576, 2.1, 1.4163421, 6.663580]\n",
    "\n",
    "for num in num_list:\n",
    "    print(\"{:.2f}\".format(num))"
   ]
  },
  {
   "cell_type": "code",
   "execution_count": 117,
   "id": "2a4e24b2",
   "metadata": {},
   "outputs": [
    {
     "name": "stdout",
     "output_type": "stream",
     "text": [
      "5.21\n",
      "2.1\n",
      "1.41\n",
      "6.66\n"
     ]
    }
   ],
   "source": [
    "# Method 2:\n",
    "num_list = [5.21576, 2.1, 1.4163421, 6.663580]\n",
    "\n",
    "for num in num_list:\n",
    "    print(round(num,2))"
   ]
  },
  {
   "cell_type": "code",
   "execution_count": 120,
   "id": "828602ef",
   "metadata": {},
   "outputs": [
    {
     "name": "stdout",
     "output_type": "stream",
     "text": [
      "5.21\n",
      "2.1\n",
      "1.41\n",
      "6.66\n"
     ]
    }
   ],
   "source": [
    "# Method 3:\n",
    "num_list = [5.21576, 2.1, 1.4163421, 6.663580]\n",
    "\n",
    "for num in num_list:\n",
    "    print(str(num)[0:4])"
   ]
  },
  {
   "cell_type": "markdown",
   "id": "452c0ab0",
   "metadata": {},
   "source": [
    "**14-Write a Python program to print the following numbers up to 2 decimal places with a sign"
   ]
  },
  {
   "cell_type": "code",
   "execution_count": 126,
   "id": "73e82479",
   "metadata": {},
   "outputs": [
    {
     "name": "stdout",
     "output_type": "stream",
     "text": [
      "+5.22\n",
      "-2.10\n",
      "+1.42\n",
      "-6.66\n"
     ]
    }
   ],
   "source": [
    "num_list = [5.21576, -2.1, 1.4163421, -6.663580]\n",
    "# Iterate over the list of numbers and print each one formatted to 2 decimal places with a sign\n",
    "for num in num_list:\n",
    "    if num >= 0:\n",
    "        print(\"+{:.2f}\".format(num))\n",
    "    else:\n",
    "        print(\"{:.2f}\".format(num))"
   ]
  },
  {
   "cell_type": "markdown",
   "id": "32b1811a",
   "metadata": {},
   "source": [
    "**15-Write a Python program to display a number with a comma separator"
   ]
  },
  {
   "cell_type": "code",
   "execution_count": 130,
   "id": "f30fc0b6",
   "metadata": {},
   "outputs": [
    {
     "name": "stdout",
     "output_type": "stream",
     "text": [
      "12,345\n"
     ]
    }
   ],
   "source": [
    "num = 12345\n",
    "# Format the number with a comma separator and print it\n",
    "print(\"{:,}\".format(num))"
   ]
  },
  {
   "cell_type": "markdown",
   "id": "0477f487",
   "metadata": {},
   "source": [
    "**16-Write a Python program to reverse a string using 2 ways"
   ]
  },
  {
   "cell_type": "code",
   "execution_count": 134,
   "id": "aa8beec8",
   "metadata": {},
   "outputs": [
    {
     "name": "stdout",
     "output_type": "stream",
     "text": [
      "Original string: Basma Bassem\n",
      "Reversed string: messaB amsaB\n"
     ]
    }
   ],
   "source": [
    "# Method 1\n",
    "string = \"Basma Bassem\"\n",
    "# Reverse the string using string slicing with a step value of -1\n",
    "string[::-1]\n",
    "print(\"Original string:\",string)\n",
    "print(\"Reversed string:\",reverse_string(string)) "
   ]
  },
  {
   "cell_type": "code",
   "execution_count": 135,
   "id": "cbcacbfa",
   "metadata": {},
   "outputs": [
    {
     "name": "stdout",
     "output_type": "stream",
     "text": [
      "Original string: Basma Bassem\n",
      "Reversed string: messaB amsaB\n"
     ]
    }
   ],
   "source": [
    "# Method 2\n",
    "string = \"Basma Bassem\"\n",
    "\n",
    "\"\"\"\n",
    "Create a reverse iterator over the characters in the string using the reversed() function,\n",
    "and join them back into a single string using the join() method\n",
    "\"\"\"\n",
    "reversed_string = ''.join(reversed(string))\n",
    "\n",
    "print(\"Original string:\",string)\n",
    "print(\"Reversed string:\", reversed_string)"
   ]
  },
  {
   "cell_type": "code",
   "execution_count": 121,
   "id": "93760ad8",
   "metadata": {},
   "outputs": [
    {
     "name": "stdout",
     "output_type": "stream",
     "text": [
      "messaB amsaB"
     ]
    }
   ],
   "source": [
    "# Method 3\n",
    "string = \"Basma Bassem\"\n",
    "for i in range (len(string)-1, -1 , -1):\n",
    "    print(string[i], end = \"\" )"
   ]
  },
  {
   "cell_type": "markdown",
   "id": "5afc3166",
   "metadata": {},
   "source": [
    " **17-Write a Python program to count repeated characters in a string (hint:use dictionary)"
   ]
  },
  {
   "cell_type": "code",
   "execution_count": 141,
   "id": "515a469c",
   "metadata": {},
   "outputs": [
    {
     "name": "stdout",
     "output_type": "stream",
     "text": [
      "Enter a string: basma bassem zaher\n",
      "Character 'b' repeated 2 times.\n",
      "Character 'a' repeated 4 times.\n",
      "Character 's' repeated 3 times.\n",
      "Character 'm' repeated 2 times.\n",
      "Character ' ' repeated 2 times.\n",
      "Character 'e' repeated 2 times.\n"
     ]
    }
   ],
   "source": [
    "# Method 1: \n",
    "def count_repeated_characters(string):\n",
    "    # Create an empty dictionary to store the character counts\n",
    "    char_counts = {}\n",
    "    # Iterate over each character in the string\n",
    "    for char in string:\n",
    "        # If the character is already in the dictionary, increment its count\n",
    "        if char in char_counts:\n",
    "            char_counts[char] += 1\n",
    "        # Otherwise, add the character to the dictionary with a count of 1\n",
    "        else:\n",
    "            char_counts[char] = 1\n",
    "    return char_counts\n",
    "string = input(\"Enter a string: \")\n",
    "char_counts = count_repeated_characters(string)\n",
    "\n",
    "for char, count in char_counts.items():\n",
    "    if count > 1:\n",
    "        print(\"Character '{}' repeated {} times.\".format(char, count))"
   ]
  },
  {
   "cell_type": "code",
   "execution_count": 124,
   "id": "6c59aeb2",
   "metadata": {},
   "outputs": [
    {
     "name": "stdout",
     "output_type": "stream",
     "text": [
      "Enter a string: basma bassem zaher\n",
      "Character 'b' repeated 2 times.\n",
      "Character 'a' repeated 4 times.\n",
      "Character 's' repeated 3 times.\n",
      "Character 'm' repeated 2 times.\n",
      "Character ' ' repeated 2 times.\n",
      "Character 'e' repeated 2 times.\n"
     ]
    }
   ],
   "source": [
    "# Method 2: \n",
    "string = input(\"Enter a string: \")\n",
    "chs = []\n",
    "\n",
    "for i in string:\n",
    "    chs.append(i)\n",
    "\n",
    "my_dic = {}\n",
    "for i in chs:\n",
    "    my_dic[i] = string.count(i)\n",
    "\n",
    "for char, count in my_dic.items():\n",
    "    if count > 1:\n",
    "        print(\"Character '{}' repeated {} times.\".format(char, count))\n"
   ]
  },
  {
   "cell_type": "markdown",
   "id": "ae14e4e5",
   "metadata": {},
   "source": [
    "**18-Write a Python program to find the first non-repeating character in a given string"
   ]
  },
  {
   "cell_type": "code",
   "execution_count": 125,
   "id": "d73778e5",
   "metadata": {},
   "outputs": [
    {
     "name": "stdout",
     "output_type": "stream",
     "text": [
      "Enter a string: basma bassem zaher\n",
      "Character 'z' repeated 1 times.\n",
      "Character 'h' repeated 1 times.\n",
      "Character 'r' repeated 1 times.\n"
     ]
    }
   ],
   "source": [
    "# Method 1:\n",
    "def count_repeated_characters(string):\n",
    "    # Create an empty dictionary to store the character counts\n",
    "    char_counts = {}\n",
    "    # Iterate over each character in the string\n",
    "    for char in string:\n",
    "        # If the character is already in the dictionary, increment its count\n",
    "        if char in char_counts:\n",
    "            char_counts[char] += 1\n",
    "        # Otherwise, add the character to the dictionary with a count of 1\n",
    "        else:\n",
    "            char_counts[char] = 1\n",
    "    return char_counts\n",
    "string = input(\"Enter a string: \")\n",
    "char_counts = count_repeated_characters(string)\n",
    "\n",
    "for char, count in char_counts.items():\n",
    "    if count == 1:\n",
    "        print(\"Character '{}' repeated {} times.\".format(char, count))"
   ]
  },
  {
   "cell_type": "code",
   "execution_count": 126,
   "id": "56d18fd9",
   "metadata": {},
   "outputs": [
    {
     "name": "stdout",
     "output_type": "stream",
     "text": [
      "Enter a string: basma bassem zaher\n",
      "Character 'z' repeated 1 times.\n",
      "Character 'h' repeated 1 times.\n",
      "Character 'r' repeated 1 times.\n"
     ]
    }
   ],
   "source": [
    "# Method 2: \n",
    "string = input(\"Enter a string: \")\n",
    "chs = []\n",
    "\n",
    "for i in string:\n",
    "    chs.append(i)\n",
    "\n",
    "my_dic = {}\n",
    "for i in chs:\n",
    "    my_dic[i] = string.count(i)\n",
    "\n",
    "for char, count in my_dic.items():\n",
    "    if count == 1:\n",
    "        print(\"Character '{}' repeated {} times.\".format(char, count))"
   ]
  },
  {
   "cell_type": "markdown",
   "id": "3adf5669",
   "metadata": {},
   "source": [
    "**19-Write a Python program to remove spaces from a given string"
   ]
  },
  {
   "cell_type": "code",
   "execution_count": 145,
   "id": "b4f22602",
   "metadata": {},
   "outputs": [
    {
     "name": "stdout",
     "output_type": "stream",
     "text": [
      "Enter a string with spaces: basma bassem zaher\n",
      "Original string: basma bassem zaher\n",
      "After deleting the spaces: basmabassemzaher\n"
     ]
    }
   ],
   "source": [
    "# function to remove spaces from a given string\n",
    "def remove_spaces(string):\n",
    "    return string.replace(\" \", \"\")\n",
    "\n",
    "string = input(\"Enter a string with spaces: \")\n",
    "\n",
    "print(\"Original string:\", string)\n",
    "print(\"After deleting the spaces:\", remove_spaces(string))"
   ]
  },
  {
   "cell_type": "markdown",
   "id": "734de60c",
   "metadata": {},
   "source": [
    "**20-Write a Python program to count the number of non-empty substrings of a given string"
   ]
  },
  {
   "cell_type": "code",
   "execution_count": 149,
   "id": "ef3f2274",
   "metadata": {},
   "outputs": [
    {
     "name": "stdout",
     "output_type": "stream",
     "text": [
      "Enter a string: hey\n",
      "Number of non-empty substrings: 6\n"
     ]
    }
   ],
   "source": [
    "# Method 1: \n",
    "def number_of_substrings(string):\n",
    "    # Initialize a counter for the number of non-empty substrings\n",
    "    count = 0\n",
    "    # Iterate over each character in the string\n",
    "    for i in range(len(string)):\n",
    "        # For each character, iterate over each substring starting from that character\n",
    "        for j in range(i, len(string)):\n",
    "            # If the substring is non-empty, increment the counter\n",
    "            if string[i:j+1]:\n",
    "                count += 1\n",
    "    return count\n",
    "\n",
    "string = input(\"Enter a string: \")\n",
    "count = number_of_substrings(string)\n",
    "# Print the number of non-empty substrings\n",
    "print(\"Number of non-empty substrings:\", count)"
   ]
  },
  {
   "cell_type": "code",
   "execution_count": 129,
   "id": "468c2148",
   "metadata": {},
   "outputs": [
    {
     "data": {
      "text/plain": [
       "6"
      ]
     },
     "execution_count": 129,
     "metadata": {},
     "output_type": "execute_result"
    }
   ],
   "source": [
    "# Method 2: \n",
    "def num_of_substrings(string):\n",
    "    str_len = len(string)\n",
    "    return int(str_len * (str_len + 1) / 2)\n",
    "\n",
    "num_of_substrings(\"hey\")"
   ]
  },
  {
   "cell_type": "markdown",
   "id": "509998e2",
   "metadata": {},
   "source": [
    "**21-write a Python program to swap first and last element of any list."
   ]
  },
  {
   "cell_type": "code",
   "execution_count": 179,
   "id": "68692d7f",
   "metadata": {},
   "outputs": [
    {
     "name": "stdout",
     "output_type": "stream",
     "text": [
      "List after swapping first and last elements: [5, 2, 3, 4, 1]\n"
     ]
    }
   ],
   "source": [
    "mylist = [1, 2, 3, 4, 5]\n",
    "\n",
    "# Swap the first and last elements of the list\n",
    "mylist[0], mylist[-1] = mylist[-1], mylist[0]\n",
    "\n",
    "print(\"List after swapping first and last elements:\", mylist)"
   ]
  },
  {
   "cell_type": "markdown",
   "id": "959e0837",
   "metadata": {},
   "source": [
    "**22-Given a list in Python and provided the positions of the elements, write a program to swap the two elements in the list. (Input : List = [23, 65, 19, 90], pos1 = 1, pos2 = 3\n",
    "Output : [19, 65, 23, 90])"
   ]
  },
  {
   "cell_type": "code",
   "execution_count": 177,
   "id": "225d8c6d",
   "metadata": {
    "scrolled": false
   },
   "outputs": [
    {
     "name": "stdout",
     "output_type": "stream",
     "text": [
      "Enter the position of the first element to swap: 1\n",
      "Enter the position of the second element to swap: 2\n",
      "List after swapping elements at positions 1 and 2: [1, 3, 2, 4, 5]\n"
     ]
    }
   ],
   "source": [
    "mylist = [1, 2, 3, 4, 5]\n",
    "\n",
    "# Get the positions of the elements to swap \n",
    "pos1 = int(input(\"Enter the position of the first element to swap: \"))\n",
    "pos2 = int(input(\"Enter the position of the second element to swap: \"))\n",
    "\n",
    "# Swap the elements in the list\n",
    "mylist[pos1], mylist[pos2] = mylist[pos2], mylist[pos1]\n",
    "\n",
    "print(\"List after swapping elements at positions {} and {}:\".format(pos1, pos2), mylist)"
   ]
  },
  {
   "cell_type": "markdown",
   "id": "479d79f1",
   "metadata": {},
   "source": [
    "**23- What are all the ways to know the length of the list"
   ]
  },
  {
   "cell_type": "code",
   "execution_count": 130,
   "id": "d32cd0f6",
   "metadata": {},
   "outputs": [
    {
     "name": "stdout",
     "output_type": "stream",
     "text": [
      "5\n"
     ]
    }
   ],
   "source": [
    "# Method 1: Using len() function\n",
    "my_list = [1, 2, 3, 4, 5]\n",
    "length = len(my_list)\n",
    "print(length)"
   ]
  },
  {
   "cell_type": "code",
   "execution_count": 131,
   "id": "4456f414",
   "metadata": {},
   "outputs": [
    {
     "name": "stdout",
     "output_type": "stream",
     "text": [
      "5\n"
     ]
    }
   ],
   "source": [
    "# Method 2: Using a loop\n",
    "my_list = [1, 2, 3, 4, 5]\n",
    "length = 0\n",
    "for item in my_list:\n",
    "    length += 1\n",
    "print(length)  "
   ]
  },
  {
   "cell_type": "code",
   "execution_count": null,
   "id": "63ff8b43",
   "metadata": {},
   "outputs": [],
   "source": [
    "**24-write a Python code to find the Maximum number of list of numbers."
   ]
  },
  {
   "cell_type": "code",
   "execution_count": 137,
   "id": "5d23b1ae",
   "metadata": {},
   "outputs": [
    {
     "name": "stdout",
     "output_type": "stream",
     "text": [
      "The maximum number in the list is: 100\n"
     ]
    }
   ],
   "source": [
    "# Method 1: using max() function\n",
    "mylist = [5,84,6,19,7,22,1,8,100,52,66]\n",
    "\n",
    "# Use the built-in max() function to get the maximum number\n",
    "max_num = max(mylist)  \n",
    "\n",
    "print(\"The maximum number in the list is:\", max_num)"
   ]
  },
  {
   "cell_type": "code",
   "execution_count": 138,
   "id": "15f342de",
   "metadata": {},
   "outputs": [
    {
     "name": "stdout",
     "output_type": "stream",
     "text": [
      "The maximum number in the list is: 100\n"
     ]
    }
   ],
   "source": [
    "# Method 2: using for loop\n",
    "mylist = [5,84,6,19,7,22,1,8,100,52,66]\n",
    "\n",
    "max_num = mylist[0]   # Initialize max_num to the first element of the list\n",
    "\n",
    "# Loop through each element of the list and update max_num if necessary\n",
    "for num in mylist:\n",
    "    if num > max_num:\n",
    "        max_num = num\n",
    "\n",
    "print(\"The maximum number in the list is:\", max_num)"
   ]
  },
  {
   "cell_type": "code",
   "execution_count": null,
   "id": "1a89b9d3",
   "metadata": {},
   "outputs": [],
   "source": [
    "**25-write a Python code to find the Minimum number of list of numbers."
   ]
  },
  {
   "cell_type": "code",
   "execution_count": 139,
   "id": "12566197",
   "metadata": {},
   "outputs": [
    {
     "name": "stdout",
     "output_type": "stream",
     "text": [
      "The minmum number in the list is: 1\n"
     ]
    }
   ],
   "source": [
    "# Method 1: using min() function\n",
    "mylist = [5,84,6,19,7,22,1,8,100,52,66]\n",
    "\n",
    "# Use the built-in min() function to get the minmum number\n",
    "min_num = min(mylist)  \n",
    "\n",
    "print(\"The minmum number in the list is:\", min_num)"
   ]
  },
  {
   "cell_type": "code",
   "execution_count": 140,
   "id": "21f8cbd6",
   "metadata": {},
   "outputs": [
    {
     "name": "stdout",
     "output_type": "stream",
     "text": [
      "The minmum number in the list is: 1\n"
     ]
    }
   ],
   "source": [
    "# Method 2: using for loop\n",
    "mylist = [5,84,6,19,7,22,1,8,100,52,66]\n",
    "\n",
    "min_num = mylist[0]   # Initialize min_num to the first element of the list\n",
    "\n",
    "# Loop through each element of the list and update min_num if necessary\n",
    "for num in mylist:\n",
    "    if num < min_num:\n",
    "        min_num = num\n",
    "\n",
    "print(\"The minmum number in the list is:\", min_num)\n",
    "    \n",
    "\n"
   ]
  },
  {
   "cell_type": "markdown",
   "id": "96822d96",
   "metadata": {},
   "source": [
    "**26-search for if an elem is existing in list"
   ]
  },
  {
   "cell_type": "code",
   "execution_count": 167,
   "id": "51ca5c9a",
   "metadata": {},
   "outputs": [
    {
     "name": "stdout",
     "output_type": "stream",
     "text": [
      "Enter a number to search for: 22\n",
      "The number 22 is in the list.\n"
     ]
    }
   ],
   "source": [
    "mylist = [5,84,6,19,7,22,1,8,100,52,66]\n",
    "\n",
    "num = int(input(\"Enter a number to search for: \"))\n",
    "\n",
    "# Check if the number is in the list\n",
    "if num in mylist:\n",
    "    print(\"The number\", num, \"is in the list.\")\n",
    "else:\n",
    "    print(\"The number\", num, \"is not in the list.\")"
   ]
  },
  {
   "cell_type": "markdown",
   "id": "d9557da7",
   "metadata": {},
   "source": [
    "**27- clear python list using different ways"
   ]
  },
  {
   "cell_type": "code",
   "execution_count": 144,
   "id": "b69858a3",
   "metadata": {},
   "outputs": [
    {
     "name": "stdout",
     "output_type": "stream",
     "text": [
      "The cleared list is: []\n"
     ]
    }
   ],
   "source": [
    "# Method 1: Using the clear() method\n",
    "mylist = [1, 2, 3, 4, 5]  \n",
    "mylist.clear()  # Clear the list using the clear() method\n",
    "print(\"The cleared list is:\", mylist)"
   ]
  },
  {
   "cell_type": "code",
   "execution_count": 141,
   "id": "669b3c7b",
   "metadata": {},
   "outputs": [
    {
     "name": "stdout",
     "output_type": "stream",
     "text": [
      "The cleared list is: []\n"
     ]
    }
   ],
   "source": [
    "# Method 2: Using a loop\n",
    "mylist = [1, 2, 3, 4, 5] \n",
    "while mylist:  # Loop as long as the list is not empty     //while len(mylist) != 0\n",
    "    mylist.pop()  # Remove the last element from the list\n",
    "print(\"The cleared list is:\", mylist)"
   ]
  },
  {
   "cell_type": "code",
   "execution_count": 142,
   "id": "bcb0b1f3",
   "metadata": {},
   "outputs": [
    {
     "name": "stdout",
     "output_type": "stream",
     "text": [
      "The cleared list is: []\n"
     ]
    }
   ],
   "source": [
    "# Method 3: Assigning an empty list\n",
    "mylist = [1, 2, 3, 4, 5] \n",
    "mylist = []     # Assign an empty list to clear the old list\n",
    "print(\"The cleared list is:\", mylist)"
   ]
  },
  {
   "cell_type": "code",
   "execution_count": 143,
   "id": "ecc11c2b",
   "metadata": {},
   "outputs": [
    {
     "name": "stdout",
     "output_type": "stream",
     "text": [
      "The cleared list is: []\n"
     ]
    }
   ],
   "source": [
    "#Method 4: Using slicing\n",
    "mylist = [1, 2, 3, 4, 5] \n",
    "mylist[:] = []   # Use slicing to clear the list\n",
    "print(\"The cleared list is:\", mylist)"
   ]
  },
  {
   "cell_type": "markdown",
   "id": "52160e88",
   "metadata": {},
   "source": [
    "**28-remove duplicated elements from a list"
   ]
  },
  {
   "cell_type": "code",
   "execution_count": 146,
   "id": "5e362228",
   "metadata": {},
   "outputs": [
    {
     "name": "stdout",
     "output_type": "stream",
     "text": [
      "The list after removing duplicates is: [1, 2, 3, 4, 5]\n"
     ]
    }
   ],
   "source": [
    "# Method 1:\n",
    "mylist = [1, 2, 3, 4, 5, 3, 2] \n",
    "\n",
    "# Convert the list to a set to remove duplicates, then convert back to a list\n",
    "mylist = list(set(mylist))\n",
    "\n",
    "print(\"The list after removing duplicates is:\", mylist)"
   ]
  },
  {
   "cell_type": "code",
   "execution_count": 147,
   "id": "f57ac995",
   "metadata": {},
   "outputs": [
    {
     "name": "stdout",
     "output_type": "stream",
     "text": [
      "The list after removing duplicates is: [1, 2, 3, 4, 5]\n"
     ]
    }
   ],
   "source": [
    "# Method 2:\n",
    "mylist = [1, 2, 3, 4, 5, 3, 2] \n",
    "newlist = []  # Create a new empty list to store unique elements\n",
    "\n",
    "# Loop through each element of the list and Check if the element is not in the new list, append to a list\n",
    "for i in mylist:\n",
    "    if i not in newlist:\n",
    "        newlist.append(i)\n",
    "print(\"The list after removing duplicates is:\", newlist)"
   ]
  },
  {
   "cell_type": "markdown",
   "id": "282337f7",
   "metadata": {},
   "source": [
    "**29-Given list values and keys list, convert these values to key value pairs in form of list of dictionaries. (Input : test_list = [“Gfg”, 3, “is”, 8], key_list = [“name”, “id”]\n",
    "Output : [{‘name’: ‘Gfg’, ‘id’: 3}, {‘name’: ‘is’, ‘id’: 8}])"
   ]
  },
  {
   "cell_type": "code",
   "execution_count": 149,
   "id": "4d4e2d28",
   "metadata": {},
   "outputs": [
    {
     "name": "stdout",
     "output_type": "stream",
     "text": [
      "The constructed dictionary list :  [{'name': 'Gfg', 'id': 3}, {'name': 'is', 'id': 8}]\n"
     ]
    }
   ],
   "source": [
    "test_list = [\"Gfg\", 3, \"is\", 8]\n",
    "key_list = [\"name\", \"id\"]\n",
    "\n",
    "n = len(test_list)\n",
    "result = []\n",
    "for i in range(0, n, 2):\n",
    "    result.append({key_list[0]: test_list[i], key_list[1] : test_list[i + 1]})\n",
    "\n",
    "print(\"The constructed dictionary list : \" , str(result))"
   ]
  },
  {
   "cell_type": "markdown",
   "id": "c26b6e9f",
   "metadata": {},
   "source": [
    "**30-write a python program to count unique values inside a list using different ways"
   ]
  },
  {
   "cell_type": "code",
   "execution_count": 153,
   "id": "72132667",
   "metadata": {},
   "outputs": [
    {
     "name": "stdout",
     "output_type": "stream",
     "text": [
      "The number of unique values is: 5\n"
     ]
    }
   ],
   "source": [
    "# Method 1: Using a Set\n",
    "mylist = [1, 2, 3, 4, 5, 3, 2]\n",
    "\n",
    "# Convert the list to a set to remove duplicates\n",
    "myset = set(mylist)\n",
    "\n",
    "# Count the number of elements in the set\n",
    "num_unique = len(myset)\n",
    "\n",
    "print(\"The number of unique values is:\", num_unique)"
   ]
  },
  {
   "cell_type": "code",
   "execution_count": 152,
   "id": "56076cf5",
   "metadata": {},
   "outputs": [
    {
     "name": "stdout",
     "output_type": "stream",
     "text": [
      "The number of unique values is: 5\n"
     ]
    }
   ],
   "source": [
    "# Method 2: Using a dictionary\n",
    "mylist = [1, 2, 3, 4, 5, 3, 2]\n",
    "unique_values = {}\n",
    "\n",
    "for val in my_list:\n",
    "    unique_values[val] = unique_values.get(val, 0) + 1\n",
    "    \n",
    "count = len(unique_values)\n",
    "\n",
    "print(\"The number of unique values is:\",count) "
   ]
  },
  {
   "cell_type": "markdown",
   "id": "fed6677c",
   "metadata": {},
   "source": [
    "**31-write a python program Extract all elements with Frequency greater than K (Input : test_list = [4, 6, 4, 3, 3, 4, 3, 4, 3, 8], K = 3 \n",
    "Output : [4, 3] )"
   ]
  },
  {
   "cell_type": "code",
   "execution_count": 220,
   "id": "d81f3f9d",
   "metadata": {},
   "outputs": [
    {
     "name": "stdout",
     "output_type": "stream",
     "text": [
      "Elements with frequency greater than 3 are: [4, 3]\n"
     ]
    }
   ],
   "source": [
    "test_list = [4, 6, 4, 3, 3, 4, 3, 4, 3, 8] \n",
    "K = 3\n",
    "\n",
    "# Create an empty dictionary to store the counts of each element\n",
    "counts = {}\n",
    "\n",
    "# Count the frequency of each element in the list\n",
    "for element in test_list:\n",
    "    if element in counts:\n",
    "        counts[element] += 1\n",
    "    else:\n",
    "        counts[element] = 1\n",
    "\n",
    "# Extract elements with frequency greater than K\n",
    "result = []\n",
    "for element, count in counts.items():\n",
    "    if count > K:\n",
    "        result.append(element)\n",
    "\n",
    "print(\"Elements with frequency greater than\", K, \"are:\", result)"
   ]
  },
  {
   "cell_type": "markdown",
   "id": "caca5224",
   "metadata": {},
   "source": [
    "**32-write a python program to find the Strongest Neighbour (Input: 1 2 2 3 4 5\n",
    "Output: 2 2 3 4 5)"
   ]
  },
  {
   "cell_type": "code",
   "execution_count": 225,
   "id": "39fbd9b2",
   "metadata": {},
   "outputs": [
    {
     "name": "stdout",
     "output_type": "stream",
     "text": [
      "2 3 4 5 "
     ]
    }
   ],
   "source": [
    "mylist = [1, 2, 2, 3, 4, 5]\n",
    "# Loop over the list, skipping the first and last elements\n",
    "for i in range(1, len(mylist)-1):\n",
    "    # Find the maximum of the neighboring elements\n",
    "    max_neighbor = max(mylist[i-1], mylist[i+1])\n",
    "    print(max_neighbor, end=' ')"
   ]
  },
  {
   "cell_type": "markdown",
   "id": "a9fa8baf",
   "metadata": {},
   "source": [
    "**33-write a Python Program to print all Possible Combinations from the three Digits (Input: [1, 2, 3]\n",
    "Output:\n",
    "1 2 3 ##\n",
    "1 3 2 ##\n",
    "2 1 3 ##\n",
    "2 3 1 ##\n",
    "3 1 2 ##\n",
    "3 2 1)"
   ]
  },
  {
   "cell_type": "code",
   "execution_count": 226,
   "id": "8c520a76",
   "metadata": {},
   "outputs": [
    {
     "name": "stdout",
     "output_type": "stream",
     "text": [
      "1 2 3\n",
      "1 3 2\n",
      "2 1 3\n",
      "2 3 1\n",
      "3 1 2\n",
      "3 2 1\n"
     ]
    }
   ],
   "source": [
    "digits = [1, 2, 3]\n",
    "\n",
    "for i in range(len(digits)):\n",
    "    for j in range(len(digits)):\n",
    "        # Make sure j is not equal to i to avoid duplicate digits\n",
    "        if j != i:\n",
    "            for k in range(len(digits)):\n",
    "                # Make sure k is not equal to i or j to avoid duplicate digits\n",
    "                if k != i and k != j:\n",
    "                    print(digits[i], digits[j], digits[k])"
   ]
  },
  {
   "cell_type": "markdown",
   "id": "5288bb89",
   "metadata": {},
   "source": [
    "**34-write a Python program to find all the Combinations in the list with the given condition (Input: test_list = [1,2,3] \n",
    "Output: \n",
    " [1], [1, 2], [1, 2, 3], [1, 3]\n",
    " [2], [2, 3], [3])"
   ]
  },
  {
   "cell_type": "code",
   "execution_count": 8,
   "id": "59b89646",
   "metadata": {},
   "outputs": [
    {
     "name": "stdout",
     "output_type": "stream",
     "text": [
      "[[1], [1, 2], [1, 2, 3], [2], [2, 3], [3]]\n"
     ]
    }
   ],
   "source": [
    "test_list = [1, 2, 3]\n",
    "\n",
    "# Initialize an empty list to store the combinations\n",
    "combinations = []\n",
    "\n",
    "# Loop over the elements in the list\n",
    "for i in range(len(test_list)):\n",
    "    # Add the current element to the list of combinations\n",
    "    combinations.append([test_list[i]])\n",
    "    # Loop over the remaining elements in the list\n",
    "    for j in range(i+1, len(test_list)):\n",
    "        # Add the current element and the remaining element to the list of combinations\n",
    "        combinations.append(combinations[-1] + [test_list[j]])\n",
    "\n",
    "print(combinations)"
   ]
  },
  {
   "cell_type": "markdown",
   "id": "39973705",
   "metadata": {},
   "source": [
    "**35-write a Python program to get all unique combinations of two Lists (List_1 = [\"a\",\"b\"]\n",
    "List_2 = [1,2]\n",
    "Unique_combination = [[('a',1),('b',2)],[('a',2),('b',1)]] )"
   ]
  },
  {
   "cell_type": "code",
   "execution_count": 25,
   "id": "8c4ba22b",
   "metadata": {},
   "outputs": [
    {
     "name": "stdout",
     "output_type": "stream",
     "text": [
      "[[('a', 1), ('b', 1)], [('a', 2), ('b', 2)]]\n"
     ]
    }
   ],
   "source": [
    "list_1 = [\"a\",\"b\"] \n",
    "list_2 = [1,2] \n",
    "unique_combination = []\n",
    "for i in range (len(list_1)):\n",
    "    for j in range(len(list_2)):\n",
    "        unique_combination.append((list_1[i], list_2[j]))      #[('a', 1), ('a', 2), ('b', 1), ('b', 2)]\n",
    "result = []\n",
    "for i in range(len(list_1)):    #  i=0,j=0 -> ('a', 1)   , i=0,j=1 -> ('b', 1)  , i=1,j=0 -> ('a', 2) , i=1,j=1 -> ('b', 2)\n",
    "    temp = []                    \n",
    "    for j in range(len(list_2)):\n",
    "        temp.append(unique_combination[i + j*len(list_1)])     \n",
    "    result.append(temp)\n",
    "\n",
    "print(result) "
   ]
  },
  {
   "cell_type": "markdown",
   "id": "25199af5",
   "metadata": {},
   "source": [
    "**36-Remove all the occurrences of an element from a list in Python (Input : 1 1 2 3 4 5 1 2 1 \n",
    "\n",
    "**Output : 2 3 4 5 2)"
   ]
  },
  {
   "cell_type": "code",
   "execution_count": 23,
   "id": "6dc4c2ba",
   "metadata": {},
   "outputs": [
    {
     "data": {
      "text/plain": [
       "[1, 2, 3, 4, 5]"
      ]
     },
     "execution_count": 23,
     "metadata": {},
     "output_type": "execute_result"
    }
   ],
   "source": [
    "input_list = [1, 1, 2, 3, 4, 5, 1, 2, 1]\n",
    "def remove_occurance(input_list):\n",
    "    res = []\n",
    "    for i in range(len(input_list)):\n",
    "        if input_list[i] not in res:\n",
    "            res.append(input_list[i])\n",
    "    return res\n",
    "remove_occurance(input_list)"
   ]
  },
  {
   "cell_type": "markdown",
   "id": "bf1a3c93",
   "metadata": {},
   "source": [
    "**37-write a python program to Replace index elements with elements in Other List (The original list 1 is : [‘Gfg’, ‘is’, ‘best’] The original list 2 is : [0, 1, 2, 1, 0, 0, 0, 2, 1, 1, 2, 0] The lists after index elements replacements is : [‘Gfg’, ‘is’, ‘best’, ‘is’, ‘Gfg’, ‘Gfg’, ‘Gfg’, ‘best’, ‘is’, ‘is’, ‘best’, ‘Gfg’])"
   ]
  },
  {
   "cell_type": "code",
   "execution_count": 27,
   "id": "fdd66a71",
   "metadata": {},
   "outputs": [
    {
     "name": "stdout",
     "output_type": "stream",
     "text": [
      "['Gfg', 'is', 'best', 'is', 'Gfg', 'Gfg', 'Gfg', 'best', 'is', 'is', 'best', 'Gfg']\n"
     ]
    }
   ],
   "source": [
    "original_list1 = [\"Gfg\", \"is\", \"best\"]\n",
    "original_list2 = [0, 1, 2, 1, 0, 0, 0, 2, 1, 1, 2, 0]\n",
    "\n",
    "for i in range(len(original_list2)):\n",
    "    if original_list2[i] < len(original_list1):\n",
    "        original_list2[i] = original_list1[original_list2[i]]\n",
    "\n",
    "print (original_list2)"
   ]
  },
  {
   "cell_type": "markdown",
   "id": "af0f56e8",
   "metadata": {},
   "source": [
    "**38- write python program to Retain records with N occurrences of K(Input : test_list = [(4, 5, 5, 4), (5, 4, 3)], K = 5, N = 2 \n",
    "Output : [(4, 5, 5, 4)]\n",
    "Input : test_list = [(4, 5, 5, 4), (5, 4, 3)], K = 5, N = 3 \n",
    "Output : [] )"
   ]
  },
  {
   "cell_type": "code",
   "execution_count": 34,
   "id": "67b06671",
   "metadata": {},
   "outputs": [
    {
     "data": {
      "text/plain": [
       "[(4, 5, 5, 4)]"
      ]
     },
     "execution_count": 34,
     "metadata": {},
     "output_type": "execute_result"
    }
   ],
   "source": [
    "def retain_records (test_list , K , N):\n",
    "    output_list = []\n",
    "    for record in test_list:\n",
    "        if record.count(K) == N:\n",
    "            output_list.append(record)\n",
    "    return output_list\n",
    "test_list = [(4, 5, 5, 4), (5, 4, 3)]\n",
    "K = 5\n",
    "N = 2\n",
    "retain_records (test_list , K , N)"
   ]
  },
  {
   "cell_type": "markdown",
   "id": "de76f183",
   "metadata": {},
   "source": [
    "**39-write a Python Program to Sort the list according to the column using lambda\n",
    "array = [[1, 3, 3], [2, 1, 2], [3, 2, 1]]\n",
    "Output :\n",
    "Sorted array specific to column 0, [[1, 3, 3], [2, 1, 2], [3, 2, 1]]\n",
    "Sorted array specific to column 1, [[2, 1, 2], [3, 2, 1], [1, 3, 3]]\n",
    "Sorted array specific to column 2, [[3, 2, 1], [2, 1, 2], [1, 3, 3]]"
   ]
  },
  {
   "cell_type": "code",
   "execution_count": 38,
   "id": "dc883308",
   "metadata": {},
   "outputs": [
    {
     "name": "stdout",
     "output_type": "stream",
     "text": [
      "Sorted array specific to column 0: [[1, 3, 3], [2, 1, 2], [3, 2, 1]]\n",
      "Sorted array specific to column 1: [[2, 1, 2], [3, 2, 1], [1, 3, 3]]\n",
      "Sorted array specific to column 2: [[3, 2, 1], [2, 1, 2], [1, 3, 3]]\n"
     ]
    }
   ],
   "source": [
    "array = [[1, 3, 3], [2, 1, 2], [3, 2, 1]] \n",
    "for i in range (len(array)):\n",
    "    sorted_array = sorted(array, key=lambda x: x[i])\n",
    "    print(\"Sorted array specific to column {}:\".format(i),sorted_array) "
   ]
  },
  {
   "cell_type": "code",
   "execution_count": null,
   "id": "d2e7b31f",
   "metadata": {},
   "outputs": [],
   "source": [
    "**40- write a program to Sort Python Dictionaries by Key or Value\n",
    "Input:\n",
    "{'ravi': 10, 'rajnish': 9, 'sanjeev': 15, 'yash': 2, 'suraj': 32}\n",
    "\n",
    "Output: \n",
    "{'rajnish': 9, 'ravi': 10, 'sanjeev': 15, 'suraj': 32, 'yash': 2}"
   ]
  },
  {
   "cell_type": "code",
   "execution_count": 41,
   "id": "a96db4a0",
   "metadata": {},
   "outputs": [
    {
     "name": "stdout",
     "output_type": "stream",
     "text": [
      "Sorted dictionary by key: {'rajnish': 9, 'ravi': 10, 'sanjeev': 15, 'suraj': 32, 'yash': 2}\n",
      "Sorted dictionary by value: {'yash': 2, 'rajnish': 9, 'ravi': 10, 'sanjeev': 15, 'suraj': 32}\n"
     ]
    }
   ],
   "source": [
    "my_dict = {'ravi': 10, 'rajnish': 9, 'sanjeev': 15, 'yash': 2, 'suraj': 32}\n",
    "\n",
    "# Sort by key\n",
    "sorted_dict_by_key = dict(sorted(my_dict.items()))\n",
    "print(\"Sorted dictionary by key:\", sorted_dict_by_key)\n",
    "\n",
    "# Sort by value\n",
    "sorted_dict_by_value = dict(sorted(my_dict.items(), key=lambda x: x[1]))\n",
    "print(\"Sorted dictionary by value:\", sorted_dict_by_value)"
   ]
  },
  {
   "cell_type": "markdown",
   "id": "ec63c23a",
   "metadata": {},
   "source": [
    "**41-write python program to Remove keys with Values Greater than K ( Including mixed values )\n",
    "nput : test_dict = {‘Gfg’ : 3, ‘is’ : 7, ‘best’ : 10, ‘for’ : 6, ‘geeks’ : ‘CS’},\n",
    "K = 7 \n",
    "Output : {‘Gfg’ : 3, ‘for’ : 6, ‘geeks’ : ‘CS’}"
   ]
  },
  {
   "cell_type": "code",
   "execution_count": 43,
   "id": "e39c3a40",
   "metadata": {},
   "outputs": [
    {
     "name": "stdout",
     "output_type": "stream",
     "text": [
      "{'Gfg': 3, 'for': 6, 'geeks': 'CS'}\n"
     ]
    }
   ],
   "source": [
    "test_dict = {'Gfg': 3, 'is': 7, 'best': 10, 'for': 6, 'geeks': 'CS'}\n",
    "K = 7\n",
    "\n",
    "# Remove keys with values greater than K\n",
    "output_dict = {}\n",
    "for key, val in test_dict.items():\n",
    "    if isinstance(val, int) and val >= K:\n",
    "        continue\n",
    "    output_dict[key] = val\n",
    "\n",
    "print(output_dict)"
   ]
  },
  {
   "cell_type": "markdown",
   "id": "f143f0fe",
   "metadata": {},
   "source": [
    "**42-Write a Python program to concatenate the following dictionaries to create a new one\n",
    "\n",
    "Sample Dictionary :\n",
    "dic1={1:10, 2:20}\n",
    "dic2={3:30, 4:40}\n",
    "dic3={5:50,6:60}\n",
    "Expected Result : {1: 10, 2: 20, 3: 30, 4: 40, 5: 50, 6: 60}"
   ]
  },
  {
   "cell_type": "code",
   "execution_count": 44,
   "id": "74ffdfea",
   "metadata": {},
   "outputs": [
    {
     "name": "stdout",
     "output_type": "stream",
     "text": [
      "{1: 10, 2: 20, 3: 30, 4: 40, 5: 50, 6: 60}\n"
     ]
    }
   ],
   "source": [
    "dic1 = {1:10, 2:20}\n",
    "dic2 = {3:30, 4:40}\n",
    "dic3 = {5:50, 6:60}\n",
    "\n",
    "# Concatenate dictionaries\n",
    "new_dict = {**dic1, **dic2, **dic3}\n",
    "\n",
    "print(new_dict)"
   ]
  },
  {
   "cell_type": "markdown",
   "id": "fb04c93c",
   "metadata": {},
   "source": [
    "**43-Write a Python program to iterate over dictionaries using for loops"
   ]
  },
  {
   "cell_type": "code",
   "execution_count": 45,
   "id": "6aebc470",
   "metadata": {},
   "outputs": [
    {
     "name": "stdout",
     "output_type": "stream",
     "text": [
      "fname basma\n",
      "lname bassem\n",
      "age 21\n"
     ]
    }
   ],
   "source": [
    "my_dict = {\"fname\": \"basma\" , \"lname\": \"bassem\", \"age\":21 }\n",
    "for key in my_dict:\n",
    "    print(key,my_dict[key])"
   ]
  },
  {
   "cell_type": "markdown",
   "id": "5f491a9d",
   "metadata": {},
   "source": [
    "**44- Write a Python script to merge two Python dictionaries"
   ]
  },
  {
   "cell_type": "code",
   "execution_count": 46,
   "id": "b8a14028",
   "metadata": {},
   "outputs": [
    {
     "name": "stdout",
     "output_type": "stream",
     "text": [
      "{'a': 1, 'b': 2, 'c': 3, 'd': 4}\n"
     ]
    }
   ],
   "source": [
    "dict1 = {'a': 1, 'b': 2}\n",
    "dict2 = {'c': 3, 'd': 4}\n",
    "\n",
    "# Merge two dictionaries\n",
    "merged_dict = {**dict1, **dict2}\n",
    "\n",
    "\"\"\"\n",
    "Another way\n",
    "# Merge two dictionaries\n",
    "merged_dict = dict1.copy()\n",
    "merged_dict.update(dict2)\n",
    "\n",
    "\"\"\"\n",
    "print(merged_dict)"
   ]
  },
  {
   "cell_type": "markdown",
   "id": "216fc72d",
   "metadata": {},
   "source": [
    "**45-Write a Python program to get the maximum and minimum values of a dictionary values"
   ]
  },
  {
   "cell_type": "code",
   "execution_count": 48,
   "id": "d6883f5f",
   "metadata": {},
   "outputs": [
    {
     "name": "stdout",
     "output_type": "stream",
     "text": [
      "Maximum value: 6\n",
      "Minimum value: 3\n"
     ]
    }
   ],
   "source": [
    "my_dict = {\"apple\":3 , \"orange\":6, \"banana\":5}\n",
    "print(\"Maximum value:\", max(my_dict.values()))\n",
    "print(\"Minimum value:\", min(my_dict.values()))"
   ]
  },
  {
   "cell_type": "markdown",
   "id": "b6a53011",
   "metadata": {},
   "source": [
    "**46- Write a Python program to drop empty items from a given dictionary.\n",
    "Original Dictionary:\n",
    "{'c1': 'Red', 'c2': 'Green', 'c3': None}\n",
    "New Dictionary after dropping empty items:\n",
    "{'c1': 'Red', 'c2': 'Green'}"
   ]
  },
  {
   "cell_type": "code",
   "execution_count": 59,
   "id": "b5c6fecf",
   "metadata": {},
   "outputs": [
    {
     "name": "stdout",
     "output_type": "stream",
     "text": [
      "{'c1': 'Red', 'c2': 'Green'}\n"
     ]
    }
   ],
   "source": [
    "original_dict = {'c1': 'Red', 'c2': 'Green', 'c3': None}\n",
    "new_dict = {}\n",
    "for key, val in original_dict.items():\n",
    "    if val is not None:\n",
    "        new_dict[key] = val\n",
    "print(new_dict)"
   ]
  },
  {
   "cell_type": "markdown",
   "id": "46d718c7",
   "metadata": {},
   "source": [
    "**47-Write a Python program to create a tuple of numbers and print one item"
   ]
  },
  {
   "cell_type": "code",
   "execution_count": 60,
   "id": "13216ff5",
   "metadata": {},
   "outputs": [
    {
     "name": "stdout",
     "output_type": "stream",
     "text": [
      "Item at index 2: 3\n"
     ]
    }
   ],
   "source": [
    "my_tuple = (1, 2, 3, 4, 5)\n",
    "\n",
    "# Print one item from the tuple\n",
    "print(\"Item at index 2:\", my_tuple[2])"
   ]
  },
  {
   "cell_type": "markdown",
   "id": "2be5b56b",
   "metadata": {},
   "source": [
    "**48-Write a Python program to unpack a tuple into several variables"
   ]
  },
  {
   "cell_type": "code",
   "execution_count": 61,
   "id": "595f44be",
   "metadata": {},
   "outputs": [
    {
     "name": "stdout",
     "output_type": "stream",
     "text": [
      "x: 1\n",
      "y: 2\n",
      "z: 3\n"
     ]
    }
   ],
   "source": [
    "my_tuple = (1, 2, 3)\n",
    "\n",
    "# Unpack the tuple into variables\n",
    "x, y, z = my_tuple\n",
    "\n",
    "print(\"x:\", x)\n",
    "print(\"y:\", y)\n",
    "print(\"z:\", z)"
   ]
  },
  {
   "cell_type": "markdown",
   "id": "392388a7",
   "metadata": {},
   "source": [
    "**49-Write a Python program to add an item to a tuple"
   ]
  },
  {
   "cell_type": "code",
   "execution_count": 62,
   "id": "54cc092e",
   "metadata": {},
   "outputs": [
    {
     "name": "stdout",
     "output_type": "stream",
     "text": [
      "(1, 2, 3, 4)\n"
     ]
    }
   ],
   "source": [
    "my_tuple = (1, 2, 3)\n",
    "\n",
    "# Create a new tuple with the added item\n",
    "new_tuple = my_tuple + (4,)\n",
    "\n",
    "print(new_tuple)"
   ]
  },
  {
   "cell_type": "markdown",
   "id": "3e8fd124",
   "metadata": {},
   "source": [
    "**50-Write a Python program to convert a tuple to a string"
   ]
  },
  {
   "cell_type": "code",
   "execution_count": 64,
   "id": "92a71ddc",
   "metadata": {},
   "outputs": [
    {
     "name": "stdout",
     "output_type": "stream",
     "text": [
      "abcd\n"
     ]
    }
   ],
   "source": [
    "my_tuple = ('a', 'b', 'c', 'd')\n",
    "\n",
    "# Convert the tuple to a string\n",
    "my_string = ''.join(my_tuple)\n",
    "\n",
    "print(my_string)"
   ]
  },
  {
   "cell_type": "markdown",
   "id": "f4f64ef4",
   "metadata": {},
   "source": [
    "**51-Write a Python program to convert a list to a tuple"
   ]
  },
  {
   "cell_type": "code",
   "execution_count": 65,
   "id": "210d56d3",
   "metadata": {},
   "outputs": [
    {
     "name": "stdout",
     "output_type": "stream",
     "text": [
      "(1, 2, 3, 4, 5)\n"
     ]
    }
   ],
   "source": [
    "my_list = [1, 2, 3, 4, 5]\n",
    "print(tuple(my_list))"
   ]
  },
  {
   "cell_type": "markdown",
   "id": "b1e00ef7",
   "metadata": {},
   "source": [
    "**52-Write a Python program to reverse a tuple"
   ]
  },
  {
   "cell_type": "code",
   "execution_count": 67,
   "id": "f45bfdc7",
   "metadata": {},
   "outputs": [
    {
     "name": "stdout",
     "output_type": "stream",
     "text": [
      "(5, 4, 3, 2, 1)\n"
     ]
    }
   ],
   "source": [
    "my_tuple = (1, 2, 3, 4, 5)\n",
    "\n",
    "# Reverse the tuple and print\n",
    "print(my_tuple[::-1])"
   ]
  },
  {
   "cell_type": "markdown",
   "id": "3cd347d1",
   "metadata": {},
   "source": [
    "**53-Write a Python program to replace the last value of tuples in a list.\n",
    "Sample list: [(10, 20, 40), (40, 50, 60), (70, 80, 90)]\n",
    "Expected Output: [(10, 20, 100), (40, 50, 100), (70, 80, 100)]"
   ]
  },
  {
   "cell_type": "code",
   "execution_count": 70,
   "id": "3c4a2a4c",
   "metadata": {},
   "outputs": [
    {
     "name": "stdout",
     "output_type": "stream",
     "text": [
      "[(10, 20, 100), (40, 50, 100), (70, 80, 100)]\n"
     ]
    }
   ],
   "source": [
    "my_list = [(10, 20, 40), (40, 50, 60), (70, 80, 90)]\n",
    "\n",
    "# Define the new value to replace the last value\n",
    "new_value = 100\n",
    "\n",
    "# Iterate over the list and replace the last value of each tuple\n",
    "new_list = []\n",
    "for tup in my_list:\n",
    "    new_tup = tup[:-1] + (new_value,)\n",
    "    new_list.append(new_tup)\n",
    "\n",
    "print(new_list)"
   ]
  },
  {
   "cell_type": "markdown",
   "id": "76bb7b39",
   "metadata": {},
   "source": [
    "**54-Write a Python program to convert a given string list to a tuple\n",
    "Original string: python 3.0\n",
    "<class 'str'>\n",
    "Convert the said string to a tuple:\n",
    "('p', 'y', 't', 'h', 'o', 'n', '3', '.', '0')"
   ]
  },
  {
   "cell_type": "code",
   "execution_count": 72,
   "id": "51951937",
   "metadata": {},
   "outputs": [
    {
     "name": "stdout",
     "output_type": "stream",
     "text": [
      "('p', 'y', 't', 'h', 'o', 'n', ' ', '3', '.', '0')\n"
     ]
    }
   ],
   "source": [
    "string_list = list('python 3.0')\n",
    "\n",
    "# Convert the string list to a tuple\n",
    "string_tuple = tuple(string_list)\n",
    "\n",
    "# Print the tuple\n",
    "print(string_tuple)"
   ]
  },
  {
   "cell_type": "markdown",
   "id": "5a1d5d97",
   "metadata": {},
   "source": [
    "**55-Write a Python program to calculate the average value of the numbers in a given tuple of tuples"
   ]
  },
  {
   "cell_type": "code",
   "execution_count": 74,
   "id": "834e7992",
   "metadata": {},
   "outputs": [
    {
     "name": "stdout",
     "output_type": "stream",
     "text": [
      "Average value: 50.0\n"
     ]
    }
   ],
   "source": [
    "num_tuples = ((10, 20, 30), (40, 50, 60), (70, 80, 90))\n",
    "\n",
    "# Calculate the sum of the numbers and the total count\n",
    "num_sum = 0\n",
    "count = 0\n",
    "for tup in num_tuples:\n",
    "    for num in tup:\n",
    "        num_sum += num\n",
    "        count += 1\n",
    "\n",
    "print(\"Average value:\",num_sum / count)"
   ]
  },
  {
   "cell_type": "markdown",
   "id": "51edab9c",
   "metadata": {},
   "source": [
    "**56-Write a Python program to add member(s) to a set."
   ]
  },
  {
   "cell_type": "code",
   "execution_count": 77,
   "id": "2b65df79",
   "metadata": {},
   "outputs": [
    {
     "name": "stdout",
     "output_type": "stream",
     "text": [
      "{1, 2, 3, 4, 5, 6}\n"
     ]
    }
   ],
   "source": [
    "my_set = {1, 2, 3}\n",
    "\n",
    "# Add a single member to the set\n",
    "my_set.add(4)\n",
    "\n",
    "# Add multiple members to the set\n",
    "my_set.update({5, 6})\n",
    "\n",
    "print(my_set)"
   ]
  },
  {
   "cell_type": "markdown",
   "id": "965590cc",
   "metadata": {},
   "source": [
    "**57-Write a Python program to remove an item from a set if it is present in the set."
   ]
  },
  {
   "cell_type": "code",
   "execution_count": 79,
   "id": "866bab28",
   "metadata": {},
   "outputs": [
    {
     "name": "stdout",
     "output_type": "stream",
     "text": [
      "enter a number: 4\n",
      "{1, 2, 3, 5}\n"
     ]
    }
   ],
   "source": [
    "my_set = {1, 2, 3, 4, 5}\n",
    "num = int(input(\"enter a number: \"))\n",
    "# Remove an item from the set if it is present\n",
    "if num in my_set:\n",
    "    my_set.remove(num)\n",
    "\n",
    "print(my_set)"
   ]
  },
  {
   "cell_type": "markdown",
   "id": "2b7cfed1",
   "metadata": {},
   "source": [
    "**58-Write a Python program to create an intersection,union,difference and symmetric difference of sets"
   ]
  },
  {
   "cell_type": "code",
   "execution_count": 84,
   "id": "7f94b7fe",
   "metadata": {},
   "outputs": [
    {
     "name": "stdout",
     "output_type": "stream",
     "text": [
      "Intersection: {4, 5}\n",
      "Union: {1, 2, 3, 4, 5, 6, 7, 8}\n",
      "Difference(set1-set2): {1, 2, 3}\n",
      "Difference(set2-set1): {8, 6, 7}\n",
      "Symmetric difference: {1, 2, 3, 6, 7, 8}\n"
     ]
    }
   ],
   "source": [
    "set1 = {1, 2, 3, 4, 5}\n",
    "set2 = {4, 5, 6, 7, 8}\n",
    "\n",
    "# Calculate the intersection of the sets\n",
    "intersection = set1.intersection(set2)\n",
    "\n",
    "# Calculate the union of the sets\n",
    "union = set1.union(set2)\n",
    "\n",
    "# Calculate the difference between the sets\n",
    "difference1 = set1.difference(set2)\n",
    "difference2 = set2.difference(set1)\n",
    "\n",
    "# Calculate the symmetric difference between the sets\n",
    "symmetric_difference = set1.symmetric_difference(set2)\n",
    "\n",
    "print(\"Intersection:\", intersection)\n",
    "print(\"Union:\", union)\n",
    "print(\"Difference(set1-set2):\", difference1)\n",
    "print(\"Difference(set2-set1):\", difference2)\n",
    "print(\"Symmetric difference:\", symmetric_difference)"
   ]
  },
  {
   "cell_type": "markdown",
   "id": "b94931e2",
   "metadata": {},
   "source": [
    "**59-Write a Python program to find the maximum and minimum values in a set"
   ]
  },
  {
   "cell_type": "code",
   "execution_count": 85,
   "id": "203f9600",
   "metadata": {},
   "outputs": [
    {
     "name": "stdout",
     "output_type": "stream",
     "text": [
      "Maximum value: 50\n",
      "Minimum value: 10\n"
     ]
    }
   ],
   "source": [
    "my_set = {10, 20, 30, 40, 50}\n",
    "\n",
    "print(\"Maximum value:\", max(my_set))\n",
    "print(\"Minimum value:\", min(my_set))"
   ]
  },
  {
   "cell_type": "markdown",
   "id": "255fd554",
   "metadata": {},
   "source": [
    "**60- Write a Python program that finds all pairs of elements in a list whose sum is equal to a given value."
   ]
  },
  {
   "cell_type": "code",
   "execution_count": 92,
   "id": "c2d94e1f",
   "metadata": {},
   "outputs": [
    {
     "name": "stdout",
     "output_type": "stream",
     "text": [
      "Pairs with sum equal to 10 are:\n",
      "(0, 10)\n",
      "(1, 9)\n",
      "(2, 8)\n",
      "(3, 7)\n",
      "(4, 6)\n"
     ]
    }
   ],
   "source": [
    "my_list = [0, 1, 2, 3, 4, 5, 6, 7, 8, 9, 10]\n",
    "\n",
    "given_val_sum = 10\n",
    "\n",
    "pairs = []\n",
    "for i in range(len(my_list)):\n",
    "    for j in range(i+1, len(my_list)):\n",
    "        if my_list[i] + my_list[j] == given_val_sum:\n",
    "            pairs.append((my_list[i], my_list[j]))\n",
    "\n",
    "print(\"Pairs with sum equal to\", given_val_sum, \"are:\")\n",
    "for pair in pairs:\n",
    "    print(pair) "
   ]
  }
 ],
 "metadata": {
  "kernelspec": {
   "display_name": "Python 3 (ipykernel)",
   "language": "python",
   "name": "python3"
  },
  "language_info": {
   "codemirror_mode": {
    "name": "ipython",
    "version": 3
   },
   "file_extension": ".py",
   "mimetype": "text/x-python",
   "name": "python",
   "nbconvert_exporter": "python",
   "pygments_lexer": "ipython3",
   "version": "3.9.7"
  }
 },
 "nbformat": 4,
 "nbformat_minor": 5
}
