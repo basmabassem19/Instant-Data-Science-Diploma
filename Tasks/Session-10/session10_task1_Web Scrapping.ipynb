{
 "cells": [
  {
   "cell_type": "code",
   "execution_count": 10,
   "id": "bccf5677",
   "metadata": {
    "ExecuteTime": {
     "end_time": "2023-08-30T23:27:48.372755Z",
     "start_time": "2023-08-30T23:27:46.502756Z"
    }
   },
   "outputs": [
    {
     "name": "stdout",
     "output_type": "stream",
     "text": [
      "بى ان سبورت 4 HD\n",
      "بى ان سبورت 3 HD\n",
      "بى ان سبورت 1HD\n",
      "بى ان سبورت 6 HD\n",
      "بى ان سبورت 1HD\n",
      "بى ان سبورت HD\n",
      "بى ان سبورت 7 HD\n",
      "بى ان سبورت 5 HD\n",
      "بى ان سبورت بريميوم 2\n",
      "بى ان سبورت بريميوم 1\n",
      "بى ان سبورت بريميوم 1\n",
      "بى ان سبورت 1HD\n",
      "بى ان سبورت 4 HD\n",
      "بى ان سبورت 1HD\n",
      "Starz Play App\n",
      "Starz Play App\n",
      "Starz Play App\n",
      "Starz Play App\n",
      "بى ان سبورت اكسترا 1\n",
      "بى ان سبورت 3 HD\n",
      "بى ان سبورت 2 HD\n",
      "بى ان سبورت 4 HD\n",
      "بى ان سبورت 6 HD\n",
      "بى ان سبورت 3 HD\n",
      "بى ان سبورت 2 HD\n",
      "بى ان سبورت 3 HD\n",
      "بى ان سبورت تركيا\n",
      "بى ان سبورت تركيا\n",
      "بى ان سبورت تركيا\n"
     ]
    }
   ],
   "source": [
    "# Task 1:  In YallaKora scrapping, how to get the channel of the match?\n",
    "\n",
    "import requests\n",
    "from bs4 import BeautifulSoup\n",
    "\n",
    "# Define the URL of the match center\n",
    "url = 'https://www.yallakora.com/Match-Center/?date=8/27/2023#'\n",
    "\n",
    "# Send an HTTP GET request to the URL\n",
    "response = requests.get(url)\n",
    "html_content = response.content\n",
    "\n",
    "soup = BeautifulSoup(html_content,'html.parser')\n",
    "\n",
    "# Find all the elements with the class 'channel'\n",
    "channel_elemnts = soup.find_all('div' ,{'class':'channel'})\n",
    "\n",
    "for channel in channel_elemnts:\n",
    "    # Extract the text from the channel elements\n",
    "    channel_names = channel.text.strip()\n",
    "    # Print the channel names\n",
    "    print (channel_names)"
   ]
  },
  {
   "cell_type": "code",
   "execution_count": 9,
   "id": "52e2973a",
   "metadata": {
    "ExecuteTime": {
     "end_time": "2023-08-30T23:27:22.053436Z",
     "start_time": "2023-08-30T23:27:20.613590Z"
    }
   },
   "outputs": [
    {
     "name": "stdout",
     "output_type": "stream",
     "text": [
      "بى ان سبورت 4 HD\n",
      "بى ان سبورت 3 HD\n",
      "بى ان سبورت 1HD\n",
      "بى ان سبورت 6 HD\n",
      "بى ان سبورت 1HD\n",
      "بى ان سبورت HD\n",
      "بى ان سبورت 7 HD\n",
      "بى ان سبورت 5 HD\n",
      "بى ان سبورت بريميوم 2\n",
      "بى ان سبورت بريميوم 1\n",
      "بى ان سبورت بريميوم 1\n",
      "بى ان سبورت 1HD\n",
      "بى ان سبورت 4 HD\n",
      "بى ان سبورت 1HD\n",
      "Starz Play App\n",
      "Starz Play App\n",
      "Starz Play App\n",
      "Starz Play App\n",
      "بى ان سبورت اكسترا 1\n",
      "بى ان سبورت 3 HD\n",
      "بى ان سبورت 2 HD\n",
      "بى ان سبورت 4 HD\n",
      "بى ان سبورت 6 HD\n",
      "بى ان سبورت 3 HD\n",
      "بى ان سبورت 2 HD\n",
      "بى ان سبورت 3 HD\n",
      "بى ان سبورت تركيا\n",
      "بى ان سبورت تركيا\n",
      "بى ان سبورت تركيا\n"
     ]
    }
   ],
   "source": [
    "# Task 1:  In YallaKora scrapping, how to get the channel of the match?\n",
    "# Another way :saving the channels in the list\n",
    "import requests\n",
    "from bs4 import BeautifulSoup\n",
    "\n",
    "# Define the URL of the match center\n",
    "url = 'https://www.yallakora.com/Match-Center/?date=8/27/2023#'\n",
    "\n",
    "# Send an HTTP GET request to the URL\n",
    "response = requests.get(url)\n",
    "html_content = response.content\n",
    "\n",
    "soup = BeautifulSoup(html_content,'html.parser')\n",
    "\n",
    "# Find all the elements with the class 'channel'\n",
    "channel_elemnts = soup.find_all('div' ,{'class':'channel'})\n",
    "\n",
    "\n",
    "# Save the channels in the list\n",
    "channel_names = []\n",
    "for channel in channel_elemnts:\n",
    "    # Extract the text from the channel elements\n",
    "    channel_names.append(channel.text.strip())\n",
    "\n",
    "# Print the channel names\n",
    "for name in channel_names:\n",
    "    print(name)   "
   ]
  },
  {
   "cell_type": "code",
   "execution_count": null,
   "id": "dfe2a9b4",
   "metadata": {},
   "outputs": [],
   "source": []
  }
 ],
 "metadata": {
  "kernelspec": {
   "display_name": "Python 3 (ipykernel)",
   "language": "python",
   "name": "python3"
  },
  "language_info": {
   "codemirror_mode": {
    "name": "ipython",
    "version": 3
   },
   "file_extension": ".py",
   "mimetype": "text/x-python",
   "name": "python",
   "nbconvert_exporter": "python",
   "pygments_lexer": "ipython3",
   "version": "3.9.7"
  }
 },
 "nbformat": 4,
 "nbformat_minor": 5
}
